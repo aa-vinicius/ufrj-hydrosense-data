{
 "cells": [
  {
   "cell_type": "markdown",
   "id": "ee807840",
   "metadata": {},
   "source": [
    "# Testes Automatizados do Pipeline de Dados\n",
    "\n",
    "Este notebook valida as principais regras de negócio do pipeline de integração de dados meteorológicos e de vazão para previsão mensal de vazão. São utilizados subsets dos arquivos gerados para garantir performance e clareza dos testes."
   ]
  },
  {
   "cell_type": "markdown",
   "id": "c63e30f4",
   "metadata": {},
   "source": [
    "## 1. Importação das Bibliotecas Necessárias\n",
    "\n",
    "Vamos importar as bibliotecas essenciais para manipulação e análise dos dados."
   ]
  },
  {
   "cell_type": "code",
   "execution_count": null,
   "id": "ea4557da",
   "metadata": {},
   "outputs": [],
   "source": [
    "import pandas as pd\n",
    "import json\n",
    "import matplotlib.pyplot as plt\n",
    "from pathlib import Path"
   ]
  },
  {
   "cell_type": "markdown",
   "id": "91308d0a",
   "metadata": {},
   "source": [
    "## 2. Carregar Subsets dos Arquivos de Dados\n",
    "\n",
    "Vamos carregar amostras dos arquivos JSON gerados pelo pipeline para validação dos testes."
   ]
  },
  {
   "cell_type": "code",
   "execution_count": null,
   "id": "72c7d5b9",
   "metadata": {},
   "outputs": [],
   "source": [
    "# Função utilitária para carregar um subset\n",
    "\n",
    "def load_subset_json(path, n=1000):\n",
    "    with open(path) as f:\n",
    "        data = json.load(f)\n",
    "    return pd.DataFrame(data[:n])\n",
    "\n",
    "# Carregar subsets\n",
    "meteo_subbasin = load_subset_json('../data/meteo_station_subbasin_mapping.json', 1000)\n",
    "vazao_mensal = load_subset_json('../data/vazao_mensal.json', 1000)\n",
    "meteo_vazao_joined = load_subset_json('../data/meteo_vazao_joined.json', 1000)\n",
    "meteo_vazao_shifted = load_subset_json('../data/meteo_vazao_shifted.json', 1000)\n",
    "\n",
    "# Visualizar exemplos\n",
    "meteo_subbasin.head(), vazao_mensal.head(), meteo_vazao_joined.head(), meteo_vazao_shifted.head()"
   ]
  },
  {
   "cell_type": "markdown",
   "id": "5918cc84",
   "metadata": {},
   "source": [
    "## 3. Testes de Regras de Negócio\n",
    "\n",
    "### 3.1 Join Espacial: Estação Meteorológica x Subbacia\n",
    "Verifica se todas as estações meteorológicas possuem subbacia associada."
   ]
  },
  {
   "cell_type": "code",
   "execution_count": null,
   "id": "06554e9d",
   "metadata": {},
   "outputs": [],
   "source": [
    "# Teste: todas as estações têm subbacia associada?\n",
    "assert meteo_subbasin['Subbasin'].notnull().all(), 'Existem estações meteorológicas sem subbacia associada!'\n",
    "print('Join espacial: todas as estações possuem subbacia associada. OK!')"
   ]
  },
  {
   "cell_type": "markdown",
   "id": "5f12198d",
   "metadata": {},
   "source": [
    "### 3.2 Agregação Mensal de Vazão\n",
    "Verifica se não há duplicidade de (station_id, year, month) e se os valores são médios."
   ]
  },
  {
   "cell_type": "code",
   "execution_count": null,
   "id": "6d4e2eeb",
   "metadata": {},
   "outputs": [],
   "source": [
    "# Teste: não deve haver duplicidade de (station_id, year, month)\n",
    "duplicados = vazao_mensal.duplicated(subset=['station_id', 'year', 'month']).sum()\n",
    "assert duplicados == 0, f'Existem {duplicados} registros duplicados de vazão mensal!'\n",
    "print('Agregação mensal: não há duplicidade de (station_id, year, month). OK!')"
   ]
  },
  {
   "cell_type": "markdown",
   "id": "6dbf3af1",
   "metadata": {},
   "source": [
    "### 3.3 Join Temporal: Meteorologia x Vazão\n",
    "Verifica se as chaves de junção (ano, mês, subbacia) existem em ambos os datasets."
   ]
  },
  {
   "cell_type": "code",
   "execution_count": null,
   "id": "f540a80a",
   "metadata": {},
   "outputs": [],
   "source": [
    "# Teste: todas as chaves de meteo_vazao_joined existem em ambos os datasets\n",
    "chaves_meteo = set(zip(meteo_vazao_joined['year'], meteo_vazao_joined['month'], meteo_vazao_joined['subbasin_id']))\n",
    "chaves_meteo_orig = set(zip(meteo_subbasin['year'], meteo_subbasin['month'], meteo_subbasin['Subbasin']))\n",
    "chaves_vazao = set(zip(vazao_mensal['year'], vazao_mensal['month'], vazao_mensal['subbasin_id']))\n",
    "\n",
    "assert chaves_meteo.issubset(chaves_meteo_orig), 'Existem chaves em meteo_vazao_joined que não estão nos dados meteorológicos!'\n",
    "assert chaves_meteo.issubset(chaves_vazao), 'Existem chaves em meteo_vazao_joined que não estão nos dados de vazão!'\n",
    "print('Join temporal: todas as chaves presentes nos datasets originais. OK!')"
   ]
  },
  {
   "cell_type": "markdown",
   "id": "47a4d51c",
   "metadata": {},
   "source": [
    "### 3.4 Deslocamento Temporal e Filtragem\n",
    "Verifica se o deslocamento foi aplicado corretamente e se não há vazões nulas ou negativas."
   ]
  },
  {
   "cell_type": "code",
   "execution_count": null,
   "id": "eeb8d2f9",
   "metadata": {},
   "outputs": [],
   "source": [
    "# Teste: não deve haver vazão nula ou negativa\n",
    "total = len(meteo_vazao_shifted)\n",
    "na = meteo_vazao_shifted['flow_next_month'].isna().sum()\n",
    "neg = (meteo_vazao_shifted['flow_next_month'] <= 0).sum()\n",
    "assert na == 0, f'Existem {na} registros com vazão nula.'\n",
    "assert neg == 0, f'Existem {neg} registros com vazão <= 0.'\n",
    "print(f'Deslocamento temporal e filtragem: {total} registros válidos. OK!')"
   ]
  },
  {
   "cell_type": "markdown",
   "id": "91ec92c8",
   "metadata": {},
   "source": [
    "### 3.5 Visualização de Exemplos\n",
    "Exibe exemplos de registros válidos do dataset final para inspeção manual."
   ]
  },
  {
   "cell_type": "code",
   "execution_count": null,
   "id": "e814fc55",
   "metadata": {},
   "outputs": [],
   "source": [
    "# Exibir exemplos do dataset final\n",
    "meteo_vazao_shifted.sample(5, random_state=42)"
   ]
  }
 ],
 "metadata": {
  "language_info": {
   "name": "python"
  }
 },
 "nbformat": 4,
 "nbformat_minor": 5
}
